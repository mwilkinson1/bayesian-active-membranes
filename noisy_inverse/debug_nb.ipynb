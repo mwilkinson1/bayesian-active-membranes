{
 "cells": [
  {
   "cell_type": "code",
   "execution_count": 1,
   "metadata": {},
   "outputs": [],
   "source": [
    "import pandas as pd\n",
    "import os\n",
    "import torch"
   ]
  },
  {
   "cell_type": "code",
   "execution_count": 3,
   "metadata": {},
   "outputs": [],
   "source": [
    "labels = pd.read_csv(os.path.join(\"s1_partitioned_data\", \"s1_expansion_labels_1.csv\"), header=None, index_col=0)\n",
    "xx_targets = pd.read_csv(os.path.join(\"s1_partitioned_data\", \"s1_expansion_xx_1.csv\"), header=None, index_col=0)\n",
    "yy_targets = pd.read_csv(os.path.join(\"s1_partitioned_data\", \"s1_expansion_yy_1.csv\"), header=None, index_col=0)\n",
    "\n",
    "# Convert pandas DataFrames to torch Tensors\n",
    "labels_tensor = torch.tensor(labels.values)\n",
    "xx_targets_tensor = torch.tensor(xx_targets.values)\n",
    "yy_targets_tensor = torch.tensor(yy_targets.values)"
   ]
  },
  {
   "cell_type": "code",
   "execution_count": 10,
   "metadata": {},
   "outputs": [
    {
     "name": "stdout",
     "output_type": "stream",
     "text": [
      "tensor([0.0500], dtype=torch.float64)\n"
     ]
    }
   ],
   "source": [
    "# print(labels_tensor[20:20 + 3, 5])\n",
    "print(labels_tensor[-1:, 5])"
   ]
  },
  {
   "cell_type": "code",
   "execution_count": 1,
   "metadata": {},
   "outputs": [
    {
     "name": "stdout",
     "output_type": "stream",
     "text": [
      "Collecting blackbox\n",
      "  Downloading blackbox-0.7.1.tar.gz (9.9 kB)\n",
      "  Installing build dependencies ... \u001b[?25ldone\n",
      "\u001b[?25h  Getting requirements to build wheel ... \u001b[?25ldone\n",
      "\u001b[?25h  Preparing metadata (pyproject.toml) ... \u001b[?25ldone\n",
      "\u001b[?25hBuilding wheels for collected packages: blackbox\n",
      "  Building wheel for blackbox (pyproject.toml) ... \u001b[?25ldone\n",
      "\u001b[?25h  Created wheel for blackbox: filename=blackbox-0.7.1-py3-none-any.whl size=12436 sha256=1c1735366b265b0d67ee429e94843fad318d0f87b4a6eb3b5d7fd02ad9832627\n",
      "  Stored in directory: /Users/wilki114/Library/Caches/pip/wheels/06/5b/8d/3d7b11076b08b589824b7315408578b20656658b34c9a31471\n",
      "Successfully built blackbox\n",
      "Installing collected packages: blackbox\n",
      "Successfully installed blackbox-0.7.1\n",
      "Note: you may need to restart the kernel to use updated packages.\n"
     ]
    }
   ],
   "source": [
    "pip install blackbox"
   ]
  }
 ],
 "metadata": {
  "kernelspec": {
   "display_name": "R21_env",
   "language": "python",
   "name": "python3"
  },
  "language_info": {
   "codemirror_mode": {
    "name": "ipython",
    "version": 3
   },
   "file_extension": ".py",
   "mimetype": "text/x-python",
   "name": "python",
   "nbconvert_exporter": "python",
   "pygments_lexer": "ipython3",
   "version": "3.13.2"
  }
 },
 "nbformat": 4,
 "nbformat_minor": 2
}
